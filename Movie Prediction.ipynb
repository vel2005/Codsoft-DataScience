import numpy as np
import pandas as pd
import seaborn as sb
import plotly.express as px
import matplotlib.pyplot as mpl
from wordcloud import WordCloud
from sklearn.model_selection import train_test_split
movie_file = pd.read_csv('prediction.csv', encoding='latin1')
movie_file
Name	Year	Duration	Genre	Rating	Votes	Director	Actor 1	Actor 2	Actor 3
0		NaN	NaN	Drama	NaN	NaN	J.S. Randhawa	Manmauji	Birbal	Rajendra Bhatia
1	#Gadhvi (He thought he was Gandhi)	(2019)	109 min	Drama	7.0	8	Gaurav Bakshi	Rasika Dugal	Vivek Ghamande	Arvind Jangid
2	#Homecoming	(2021)	90 min	Drama, Musical	NaN	NaN	Soumyajit Majumdar	Sayani Gupta	Plabita Borthakur	Roy Angana
3	#Yaaram	(2019)	110 min	Comedy, Romance	4.4	35	Ovais Khan	Prateik	Ishita Raj	Siddhant Kapoor
4	...And Once Again	(2010)	105 min	Drama	NaN	NaN	Amol Palekar	Rajat Kapoor	Rituparna Sengupta	Antara Mali
...	...	...	...	...	...	...	...	...	...	...
15504	Zulm Ko Jala Doonga	(1988)	NaN	Action	4.6	11	Mahendra Shah	Naseeruddin Shah	Sumeet Saigal	Suparna Anand
15505	Zulmi	(1999)	129 min	Action, Drama	4.5	655	Kuku Kohli	Akshay Kumar	Twinkle Khanna	Aruna Irani
15506	Zulmi Raj	(2005)	NaN	Action	NaN	NaN	Kiran Thej	Sangeeta Tiwari	NaN	NaN
15507	Zulmi Shikari	(1988)	NaN	Action	NaN	NaN	NaN	NaN	NaN	NaN
15508	Zulm-O-Sitam	(1998)	130 min	Action, Drama	6.2	20	K.C. Bokadia	Dharmendra	Jaya Prada	Arjun Sarja
15509 rows × 10 columns

movie_file.head(11)
Name	Year	Duration	Genre	Rating	Votes	Director	Actor 1	Actor 2	Actor 3
0		NaN	NaN	Drama	NaN	NaN	J.S. Randhawa	Manmauji	Birbal	Rajendra Bhatia
1	#Gadhvi (He thought he was Gandhi)	(2019)	109 min	Drama	7.0	8	Gaurav Bakshi	Rasika Dugal	Vivek Ghamande	Arvind Jangid
2	#Homecoming	(2021)	90 min	Drama, Musical	NaN	NaN	Soumyajit Majumdar	Sayani Gupta	Plabita Borthakur	Roy Angana
3	#Yaaram	(2019)	110 min	Comedy, Romance	4.4	35	Ovais Khan	Prateik	Ishita Raj	Siddhant Kapoor
4	...And Once Again	(2010)	105 min	Drama	NaN	NaN	Amol Palekar	Rajat Kapoor	Rituparna Sengupta	Antara Mali
5	...Aur Pyaar Ho Gaya	(1997)	147 min	Comedy, Drama, Musical	4.7	827	Rahul Rawail	Bobby Deol	Aishwarya Rai Bachchan	Shammi Kapoor
6	...Yahaan	(2005)	142 min	Drama, Romance, War	7.4	1,086	Shoojit Sircar	Jimmy Sheirgill	Minissha Lamba	Yashpal Sharma
7	.in for Motion	(2008)	59 min	Documentary	NaN	NaN	Anirban Datta	NaN	NaN	NaN
8	?: A Question Mark	(2012)	82 min	Horror, Mystery, Thriller	5.6	326	Allyson Patel	Yash Dave	Muntazir Ahmad	Kiran Bhatia
9	@Andheri	(2014)	116 min	Action, Crime, Thriller	4.0	11	Biju Bhaskar Nair	Augustine	Fathima Babu	Byon
10	1:1.6 An Ode to Lost Love	(2004)	96 min	Drama	6.2	17	Madhu Ambat	Rati Agnihotri	Gulshan Grover	Atul Kulkarni
movie_file.describe()
Rating
count	7919.000000
mean	5.841621
std	1.381777
min	1.100000
25%	4.900000
50%	6.000000
75%	6.800000
max	10.000000
movie_file.dtypes
Name         object
Year         object
Duration     object
Genre        object
Rating      float64
Votes        object
Director     object
Actor 1      object
Actor 2      object
Actor 3      object
dtype: object
movie_file.isnull().sum()
Name           0
Year         528
Duration    8269
Genre       1877
Rating      7590
Votes       7589
Director     525
Actor 1     1617
Actor 2     2384
Actor 3     3144
dtype: int64
movie_file.isnull().sum().sum()
33523
movie_file.shape
(15509, 10)
movie_file.dropna(inplace = True)
movie_file.head(11)
Name	Year	Duration	Genre	Rating	Votes	Director	Actor 1	Actor 2	Actor 3
1	#Gadhvi (He thought he was Gandhi)	(2019)	109 min	Drama	7.0	8	Gaurav Bakshi	Rasika Dugal	Vivek Ghamande	Arvind Jangid
3	#Yaaram	(2019)	110 min	Comedy, Romance	4.4	35	Ovais Khan	Prateik	Ishita Raj	Siddhant Kapoor
5	...Aur Pyaar Ho Gaya	(1997)	147 min	Comedy, Drama, Musical	4.7	827	Rahul Rawail	Bobby Deol	Aishwarya Rai Bachchan	Shammi Kapoor
6	...Yahaan	(2005)	142 min	Drama, Romance, War	7.4	1,086	Shoojit Sircar	Jimmy Sheirgill	Minissha Lamba	Yashpal Sharma
8	?: A Question Mark	(2012)	82 min	Horror, Mystery, Thriller	5.6	326	Allyson Patel	Yash Dave	Muntazir Ahmad	Kiran Bhatia
9	@Andheri	(2014)	116 min	Action, Crime, Thriller	4.0	11	Biju Bhaskar Nair	Augustine	Fathima Babu	Byon
10	1:1.6 An Ode to Lost Love	(2004)	96 min	Drama	6.2	17	Madhu Ambat	Rati Agnihotri	Gulshan Grover	Atul Kulkarni
11	1:13:7 Ek Tera Saath	(2016)	120 min	Horror	5.9	59	Arshad Siddiqui	Pankaj Berry	Anubhav Dhir	Hritu Dudani
12	100 Days	(1991)	161 min	Horror, Romance, Thriller	6.5	983	Partho Ghosh	Jackie Shroff	Madhuri Dixit	Javed Jaffrey
13	100% Love	(2012)	166 min	Comedy, Drama, Romance	5.7	512	Rabi Kinagi	Jeet	Koyel Mallick	Sujoy Ghosh
15	102 Not Out	(2018)	102 min	Comedy, Drama	7.4	6,619	Umesh Shukla	Amitabh Bachchan	Rishi Kapoor	Vijay Raaz
movie_file.isnull().sum()
Name        0
Year        0
Duration    0
Genre       0
Rating      0
Votes       0
Director    0
Actor 1     0
Actor 2     0
Actor 3     0
dtype: int64
movie_file.isnull().sum().sum()
0
movie_file.shape
(5659, 10)
movie_file['Duration'] = movie_file['Duration'].str.extract('(\d+)')
movie_file['Duration'] = pd.to_numeric(movie_file['Duration'], errors='coerce')
movie_file["Year"].head()
1    2019
3    2019
5    1997
6    2005
8    2012
Name: Year, dtype: int64
genre = movie_file['Genre']
genre.head(11)
1                         Drama
3               Comedy, Romance
5        Comedy, Drama, Musical
6           Drama, Romance, War
8     Horror, Mystery, Thriller
9       Action, Crime, Thriller
10                        Drama
11                       Horror
12    Horror, Romance, Thriller
13       Comedy, Drama, Romance
15                Comedy, Drama
Name: Genre, dtype: object
genres = movie_file['Genre'].str.split(', ', expand=True)
genres.head(11)
0	1	2
1	Drama	None	None
3	Comedy	Romance	None
5	Comedy	Drama	Musical
6	Drama	Romance	War
8	Horror	Mystery	Thriller
9	Action	Crime	Thriller
10	Drama	None	None
11	Horror	None	None
12	Horror	Romance	Thriller
13	Comedy	Drama	Romance
15	Comedy	Drama	None
genre_counts = {}
for genre in genres.values.flatten():
    if genre is not None:
        if genre in genre_counts:
            genre_counts[genre] += 1
        else:
            genre_counts[genre] = 1

genereCounts = {genre: count for genre, count in sorted(genre_counts.items())}
for genre, count in genereCounts.items():
    print(f"{genre}: {count}")
Action: 1686
Adventure: 277
Animation: 40
Biography: 115
Comedy: 1344
Crime: 875
Documentary: 48
Drama: 3796
Family: 416
Fantasy: 146
History: 99
Horror: 202
Music: 53
Musical: 412
Mystery: 304
News: 1
Romance: 1380
Sci-Fi: 32
Sport: 40
Thriller: 679
War: 33
Western: 1
genresPie = movie_file['Genre'].value_counts()
genresPie.head(11)
Genre
Drama                     844
Drama, Romance            332
Action, Crime, Drama      329
Action, Drama             206
Comedy, Drama             205
Comedy, Drama, Romance    188
Comedy                    187
Action                    170
Drama, Family             160
Romance                   126
Action, Comedy, Drama     118
Name: count, dtype: int64
genrePie = pd.DataFrame(list(genresPie.items()))
genrePie = genrePie.rename(columns={0: 'Genre', 1: 'Count'})
genrePie.head(11)
Genre	Count
0	Drama	844
1	Drama, Romance	332
2	Action, Crime, Drama	329
3	Action, Drama	206
4	Comedy, Drama	205
5	Comedy, Drama, Romance	188
6	Comedy	187
7	Action	170
8	Drama, Family	160
9	Romance	126
10	Action, Comedy, Drama	118
movie_file['Votes'] = movie_file['Votes'].str.replace(',', '').astype(int)
movie_file['Votes'].head(11)
1        8
3       35
5      827
6     1086
8      326
9       11
10      17
11      59
12     983
13     512
15    6619
Name: Votes, dtype: int32
movie_file["Director"].nunique()
2431
directors = movie_file["Director"].value_counts()
directors.head(11)
Director
David Dhawan            41
Mahesh Bhatt            39
Ram Gopal Varma         33
Hrishikesh Mukherjee    33
Shakti Samanta          33
Vikram Bhatt            30
Priyadarshan            29
Basu Chatterjee         23
Rama Rao Tatineni       23
Shyam Benegal           22
Yash Chopra             22
Name: count, dtype: int64
actors = pd.concat([movie_file['Actor 1'], movie_file['Actor 2'], movie_file['Actor 3']]).dropna().value_counts()
actors.head(11)
Mithun Chakraborty    160
Amitabh Bachchan      148
Dharmendra            146
Ashok Kumar           124
Akshay Kumar          120
Shashi Kapoor         117
Jeetendra             116
Sanjay Dutt           101
Rekha                  92
Ajay Devgn             92
Govinda                90
Name: count, dtype: int64
sb.set(style = "darkgrid", font = "Calibri")
ax = sb.lineplot(data=movie_file['Year'].value_counts().sort_index())
darkgrid_positions = range(min(movie_file['Year']), max(movie_file['Year']) + 1, 5)
ax.set_title("Annual Movie Release Counts Over Time")
ax.set_darkgrid(darkgrid_positions)
ax.set_darkgridlabels(darkgrid_positions, rotation = 90)
ax.set_xlabel("Years")
ax.set_ylabel("Count")
mpl.show()
C:\Users\Diwakar mishra\AppData\Local\Programs\Python\Python310\lib\site-packages\seaborn\_oldcore.py:1498: FutureWarning:

is_categorical_dtype is deprecated and will be removed in a future version. Use isinstance(dtype, CategoricalDtype) instead

C:\Users\Diwakar mishra\AppData\Local\Programs\Python\Python310\lib\site-packages\seaborn\_oldcore.py:1498: FutureWarning:

is_categorical_dtype is deprecated and will be removed in a future version. Use isinstance(dtype, CategoricalDtype) instead

C:\Users\Diwakar mishra\AppData\Local\Programs\Python\Python310\lib\site-packages\seaborn\_oldcore.py:1119: FutureWarning:

use_inf_as_na option is deprecated and will be removed in a future version. Convert inf values to NaN before operating instead.

C:\Users\Diwakar mishra\AppData\Local\Programs\Python\Python310\lib\site-packages\seaborn\_oldcore.py:1119: FutureWarning:

use_inf_as_na option is deprecated and will be removed in a future version. Convert inf values to NaN before operating instead.

---------------------------------------------------------------------------
AttributeError                            Traceback (most recent call last)
Cell In [96], line 4
      2 darkgrid_positions = range(min(movie_file['Year']), max(movie_file['Year']) + 1, 5)
      3 ax.set_title("Annual Movie Release Counts Over Time")
----> 4 ax.set_darkgrid(darkgrid_positions)
      5 ax.set_darkgridlabels(darkgrid_positions, rotation = 90)
      6 ax.set_xlabel("Years")

AttributeError: 'AxesSubplot' object has no attribute 'set_darkgrid'

ax = sb.boxplot(data=movie_file, y='Year')
ax.set_ylabel('Year')
ax.set_title('Box Plot of Year')
mpl.show()
C:\Users\Diwakar mishra\AppData\Local\Programs\Python\Python310\lib\site-packages\seaborn\_oldcore.py:1498: FutureWarning: is_categorical_dtype is deprecated and will be removed in a future version. Use isinstance(dtype, CategoricalDtype) instead
  if pd.api.types.is_categorical_dtype(vector):

ax = sb.lineplot(data=movie_file.groupby('Year')['Duration'].mean().reset_index(), x='Year', y='Duration')
darkgrid_positions = range(min(movie_file['Year']), max(movie_file['Year']) + 1, 5)
ax.set_title("Average Movie Duration Trends Over the Years")
ax.set_drakgrid(darkgrid_positions)
ax.set_darkgridlabels(tick_positions, rotation = 90)
ax.set_xlabel("Years")
ax.set_ylabel('Average Duration(in minutes)')
mpl.show()
C:\Users\Diwakar mishra\AppData\Local\Programs\Python\Python310\lib\site-packages\seaborn\_oldcore.py:1498: FutureWarning: is_categorical_dtype is deprecated and will be removed in a future version. Use isinstance(dtype, CategoricalDtype) instead
  if pd.api.types.is_categorical_dtype(vector):
C:\Users\Diwakar mishra\AppData\Local\Programs\Python\Python310\lib\site-packages\seaborn\_oldcore.py:1498: FutureWarning: is_categorical_dtype is deprecated and will be removed in a future version. Use isinstance(dtype, CategoricalDtype) instead
  if pd.api.types.is_categorical_dtype(vector):
C:\Users\Diwakar mishra\AppData\Local\Programs\Python\Python310\lib\site-packages\seaborn\_oldcore.py:1119: FutureWarning: use_inf_as_na option is deprecated and will be removed in a future version. Convert inf values to NaN before operating instead.
  with pd.option_context('mode.use_inf_as_na', True):
C:\Users\Diwakar mishra\AppData\Local\Programs\Python\Python310\lib\site-packages\seaborn\_oldcore.py:1119: FutureWarning: use_inf_as_na option is deprecated and will be removed in a future version. Convert inf values to NaN before operating instead.
  with pd.option_context('mode.use_inf_as_na', True):
---------------------------------------------------------------------------
AttributeError                            Traceback (most recent call last)
Cell In [46], line 4
      2 darkgrid_positions = range(min(movie_file['Year']), max(movie_file['Year']) + 1, 5)
      3 ax.set_title("Average Movie Duration Trends Over the Years")
----> 4 ax.set_drakgrid(darkgrid_positions)
      5 ax.set_darkgridlabels(tick_positions, rotation = 90)
      6 ax.set_xlabel("Years")

AttributeError: 'AxesSubplot' object has no attribute 'set_drakgrid'

ax = sb.boxplot(data=movie_file, y='Duration')
ax.set_title("Box Plot of Average Movie Durations")
ax.set_ylabel('Average Duration(in minutes)')
mpl.show()
C:\Users\Diwakar mishra\AppData\Local\Programs\Python\Python310\lib\site-packages\seaborn\_oldcore.py:1498: FutureWarning: is_categorical_dtype is deprecated and will be removed in a future version. Use isinstance(dtype, CategoricalDtype) instead
  if pd.api.types.is_categorical_dtype(vector):

Q1 = movie_file['Duration'].quantile(0.25)
Q3 = movie_file['Duration'].quantile(0.75)
IQR = Q3 - Q1
lower_bound = Q1 - 1.5 * IQR
upper_bound = Q3 + 1.5 * IQR
df = movie_file[(movie_file['Duration'] >= lower_bound) & (movie_file['Duration'] <= upper_bound)]
df.head(11)
Name	Year	Duration	Genre	Rating	Votes	Director	Actor 1	Actor 2	Actor 3
1	#Gadhvi (He thought he was Gandhi)	2019	109	Drama	7.0	8	Gaurav Bakshi	Rasika Dugal	Vivek Ghamande	Arvind Jangid
3	#Yaaram	2019	110	Comedy, Romance	4.4	35	Ovais Khan	Prateik	Ishita Raj	Siddhant Kapoor
5	...Aur Pyaar Ho Gaya	1997	147	Comedy, Drama, Musical	4.7	827	Rahul Rawail	Bobby Deol	Aishwarya Rai Bachchan	Shammi Kapoor
6	...Yahaan	2005	142	Drama, Romance, War	7.4	1086	Shoojit Sircar	Jimmy Sheirgill	Minissha Lamba	Yashpal Sharma
8	?: A Question Mark	2012	82	Horror, Mystery, Thriller	5.6	326	Allyson Patel	Yash Dave	Muntazir Ahmad	Kiran Bhatia
9	@Andheri	2014	116	Action, Crime, Thriller	4.0	11	Biju Bhaskar Nair	Augustine	Fathima Babu	Byon
10	1:1.6 An Ode to Lost Love	2004	96	Drama	6.2	17	Madhu Ambat	Rati Agnihotri	Gulshan Grover	Atul Kulkarni
11	1:13:7 Ek Tera Saath	2016	120	Horror	5.9	59	Arshad Siddiqui	Pankaj Berry	Anubhav Dhir	Hritu Dudani
12	100 Days	1991	161	Horror, Romance, Thriller	6.5	983	Partho Ghosh	Jackie Shroff	Madhuri Dixit	Javed Jaffrey
13	100% Love	2012	166	Comedy, Drama, Romance	5.7	512	Rabi Kinagi	Jeet	Koyel Mallick	Sujoy Ghosh
15	102 Not Out	2018	102	Comedy, Drama	7.4	6619	Umesh Shukla	Amitabh Bachchan	Rishi Kapoor	Vijay Raaz
genre_counts = movie_file['Genre'].str.split(', ', expand=True).stack().value_counts()

wordcloud = WordCloud(width=950, height=550, background_color='white').generate_from_frequencies(genre_counts)

mpl.figure(figsize=(16, 6))
mpl.imshow(wordcloud, interpolation='bilinear')
mpl.axis('on')
mpl.title('Genre Word Cloud')
mpl.show()

genreLabels = sorted(genereCounts.keys())
genreCounts = sorted(genereCounts.values())
ax = sb.barplot(x = genreLabels, y = genreCounts)
ax.set_xdarkgridlabels(labels=genreLabels, rotation = 90)
mpl.show()
C:\Users\Diwakar mishra\AppData\Local\Programs\Python\Python310\lib\site-packages\seaborn\_oldcore.py:1498: FutureWarning: is_categorical_dtype is deprecated and will be removed in a future version. Use isinstance(dtype, CategoricalDtype) instead
  if pd.api.types.is_categorical_dtype(vector):
C:\Users\Diwakar mishra\AppData\Local\Programs\Python\Python310\lib\site-packages\seaborn\_oldcore.py:1498: FutureWarning: is_categorical_dtype is deprecated and will be removed in a future version. Use isinstance(dtype, CategoricalDtype) instead
  if pd.api.types.is_categorical_dtype(vector):
C:\Users\Diwakar mishra\AppData\Local\Programs\Python\Python310\lib\site-packages\seaborn\_oldcore.py:1765: FutureWarning: unique with argument that is not not a Series, Index, ExtensionArray, or np.ndarray is deprecated and will raise in a future version.
  order = pd.unique(vector)
C:\Users\Diwakar mishra\AppData\Local\Programs\Python\Python310\lib\site-packages\seaborn\_oldcore.py:1498: FutureWarning: is_categorical_dtype is deprecated and will be removed in a future version. Use isinstance(dtype, CategoricalDtype) instead
  if pd.api.types.is_categorical_dtype(vector):
---------------------------------------------------------------------------
AttributeError                            Traceback (most recent call last)
Cell In [56], line 4
      2 genreCounts = sorted(genereCounts.values())
      3 ax = sb.barplot(x = genreLabels, y = genreCounts)
----> 4 ax.set_xdarkgridlabels(labels=genreLabels, rotation = 90)
      5 mpl.show()

AttributeError: 'AxesSubplot' object has no attribute 'set_xdarkgridlabels'

genrePie.loc[genrePie['Count'] < 50, 'Genre'] = 'Other'
ax = px.pie(genrePie, values='Count', names='Genre', title='More than one Genre of movies in Indian Cinema')
ax.show()
ax = sb.histplot(data = movie_file, x = "Rating", bins = 20, kde = True)
ax.set_xlabel('Rating')
ax.set_ylabel('Frequency')
ax.set_title('Distribution of Movie Ratings')
mpl.show()
C:\Users\Diwakar mishra\AppData\Local\Programs\Python\Python310\lib\site-packages\seaborn\_oldcore.py:1498: FutureWarning:

is_categorical_dtype is deprecated and will be removed in a future version. Use isinstance(dtype, CategoricalDtype) instead

C:\Users\Diwakar mishra\AppData\Local\Programs\Python\Python310\lib\site-packages\seaborn\_oldcore.py:1119: FutureWarning:

use_inf_as_na option is deprecated and will be removed in a future version. Convert inf values to NaN before operating instead.


ax = sb.boxplot(data=movie_file, y='Rating')
ax.set_ylabel('Rating')
ax.set_title('Box Plot of Movie Ratings')
mpl.show()
C:\Users\Diwakar mishra\AppData\Local\Programs\Python\Python310\lib\site-packages\seaborn\_oldcore.py:1498: FutureWarning:

is_categorical_dtype is deprecated and will be removed in a future version. Use isinstance(dtype, CategoricalDtype) instead


Q1 = movie_file['Rating'].quantile(0.25)
Q3 = movie_file['Rating'].quantile(0.75)
IQR = Q3 - Q1
lower_bound = Q1 - 1.5 * IQR
upper_bound = Q3 + 1.5 * IQR
movie_file = movie_file[(movie_file['Rating'] >= lower_bound) & (movie_file['Rating'] <= upper_bound)]
movie_file.head(16)
Name	Year	Duration	Genre	Rating	Votes	Director	Actor 1	Actor 2	Actor 3
1	#Gadhvi (He thought he was Gandhi)	2019	109	Drama	7.0	8	Gaurav Bakshi	Rasika Dugal	Vivek Ghamande	Arvind Jangid
3	#Yaaram	2019	110	Comedy, Romance	4.4	35	Ovais Khan	Prateik	Ishita Raj	Siddhant Kapoor
5	...Aur Pyaar Ho Gaya	1997	147	Comedy, Drama, Musical	4.7	827	Rahul Rawail	Bobby Deol	Aishwarya Rai Bachchan	Shammi Kapoor
6	...Yahaan	2005	142	Drama, Romance, War	7.4	1086	Shoojit Sircar	Jimmy Sheirgill	Minissha Lamba	Yashpal Sharma
8	?: A Question Mark	2012	82	Horror, Mystery, Thriller	5.6	326	Allyson Patel	Yash Dave	Muntazir Ahmad	Kiran Bhatia
9	@Andheri	2014	116	Action, Crime, Thriller	4.0	11	Biju Bhaskar Nair	Augustine	Fathima Babu	Byon
10	1:1.6 An Ode to Lost Love	2004	96	Drama	6.2	17	Madhu Ambat	Rati Agnihotri	Gulshan Grover	Atul Kulkarni
11	1:13:7 Ek Tera Saath	2016	120	Horror	5.9	59	Arshad Siddiqui	Pankaj Berry	Anubhav Dhir	Hritu Dudani
12	100 Days	1991	161	Horror, Romance, Thriller	6.5	983	Partho Ghosh	Jackie Shroff	Madhuri Dixit	Javed Jaffrey
13	100% Love	2012	166	Comedy, Drama, Romance	5.7	512	Rabi Kinagi	Jeet	Koyel Mallick	Sujoy Ghosh
15	102 Not Out	2018	102	Comedy, Drama	7.4	6619	Umesh Shukla	Amitabh Bachchan	Rishi Kapoor	Vijay Raaz
18	10ml LOVE	2010	87	Comedy, Drama, Romance	6.3	162	Sharat Katariya	Neil Bhoopalam	Anusha Bose	Manu Rishi Chadha
21	12 O'Clock	1958	132	Crime, Drama, Mystery	7.2	72	Pramod Chakravorty	Guru Dutt	Waheeda Rehman	Shashikala
22	12 O'Clock	2021	105	Horror, Thriller	4.4	63	Ram Gopal Varma	Mithun Chakraborty	Makrand Deshpande	Dalip Tahil
25	127 B	2017	116	Comedy, Horror	6.6	26	Seshu Kmr	Mast Ali	Aziz Naser	Heena Shaik
28	13B: Fear Has a New Address	2009	146	Drama, Horror, Mystery	7.3	6329	Vikram K. Kumar	Madhavan	Neetu Chandra	Poonam Dhillon
rating_votes = movie_file.groupby('Rating')['Votes'].sum().reset_index()
mpl.figure(figsize=(10, 6))
ax_line_seaborn = sb.lineplot(data=rating_votes, x='Rating', y='Votes', marker='o')
ax_line_seaborn.set_xlabel('Rating')
ax_line_seaborn.set_ylabel('Total Votes')
ax_line_seaborn.set_title('Total Votes per Rating')
mpl.show()
C:\Users\Diwakar mishra\AppData\Local\Programs\Python\Python310\lib\site-packages\seaborn\_oldcore.py:1498: FutureWarning:

is_categorical_dtype is deprecated and will be removed in a future version. Use isinstance(dtype, CategoricalDtype) instead

C:\Users\Diwakar mishra\AppData\Local\Programs\Python\Python310\lib\site-packages\seaborn\_oldcore.py:1498: FutureWarning:

is_categorical_dtype is deprecated and will be removed in a future version. Use isinstance(dtype, CategoricalDtype) instead

C:\Users\Diwakar mishra\AppData\Local\Programs\Python\Python310\lib\site-packages\seaborn\_oldcore.py:1119: FutureWarning:

use_inf_as_na option is deprecated and will be removed in a future version. Convert inf values to NaN before operating instead.

C:\Users\Diwakar mishra\AppData\Local\Programs\Python\Python310\lib\site-packages\seaborn\_oldcore.py:1119: FutureWarning:

use_inf_as_na option is deprecated and will be removed in a future version. Convert inf values to NaN before operating instead.


mpl.figure(figsize=(10, 6))
ax = sb.barplot(x=directors.head(20).index, y=directors.head(20).values, palette='viridis')
ax.set_xlabel('Directors')
ax.set_ylabel('Frequency of Movies')
ax.set_title('Top 20 Directors by Frequency of Movies')
ax.set_darkgrid(ax.get_xticklabels(), rotation=90)
mpl.show(11)
C:\Users\Diwakar mishra\AppData\Local\Programs\Python\Python310\lib\site-packages\seaborn\_oldcore.py:1498: FutureWarning:

is_categorical_dtype is deprecated and will be removed in a future version. Use isinstance(dtype, CategoricalDtype) instead

C:\Users\Diwakar mishra\AppData\Local\Programs\Python\Python310\lib\site-packages\seaborn\_oldcore.py:1498: FutureWarning:

is_categorical_dtype is deprecated and will be removed in a future version. Use isinstance(dtype, CategoricalDtype) instead

C:\Users\Diwakar mishra\AppData\Local\Programs\Python\Python310\lib\site-packages\seaborn\_oldcore.py:1498: FutureWarning:

is_categorical_dtype is deprecated and will be removed in a future version. Use isinstance(dtype, CategoricalDtype) instead

---------------------------------------------------------------------------
AttributeError                            Traceback (most recent call last)
Cell In [66], line 6
      4 ax.set_ylabel('Frequency of Movies')
      5 ax.set_title('Top 20 Directors by Frequency of Movies')
----> 6 ax.set_darkgrid(ax.get_xticklabels(), rotation=90)
      7 mpl.show(11)

AttributeError: 'AxesSubplot' object has no attribute 'set_darkgrid'

mpl.figure(figsize=(10, 6))
ax = sb.barplot(x=actors.head(20).index, y=actors.head(20).values, palette='viridis')
ax.set_xlabel('Actors')
ax.set_ylabel('Total Number of Movies')
ax.set_title('Top 20 Actors with Total Number of Movies')
ax.set_xticklabels(ax.get_xticklabels(), rotation=90)
mpl.show()
C:\Users\Diwakar mishra\AppData\Local\Programs\Python\Python310\lib\site-packages\seaborn\_oldcore.py:1498: FutureWarning:

is_categorical_dtype is deprecated and will be removed in a future version. Use isinstance(dtype, CategoricalDtype) instead

C:\Users\Diwakar mishra\AppData\Local\Programs\Python\Python310\lib\site-packages\seaborn\_oldcore.py:1498: FutureWarning:

is_categorical_dtype is deprecated and will be removed in a future version. Use isinstance(dtype, CategoricalDtype) instead

C:\Users\Diwakar mishra\AppData\Local\Programs\Python\Python310\lib\site-packages\seaborn\_oldcore.py:1498: FutureWarning:

is_categorical_dtype is deprecated and will be removed in a future version. Use isinstance(dtype, CategoricalDtype) instead


movie_file["Actor"] = movie_file['Actor 1'] + ', ' + movie_file['Actor 2'] + ', ' + movie_file['Actor 3']
movie_file["Directors"] = movie_file['Director'].astype('category').cat.codes
movie_file["Genres"] = movie_file['Genre'].astype('category').cat.codes
movie_file["Actors"] = movie_file['Actor'].astype('category').cat.codes
C:\Users\Diwakar mishra\AppData\Local\Temp\ipykernel_14928\1713399763.py:1: SettingWithCopyWarning:


A value is trying to be set on a copy of a slice from a DataFrame.
Try using .loc[row_indexer,col_indexer] = value instead

See the caveats in the documentation: https://pandas.pydata.org/pandas-docs/stable/user_guide/indexing.html#returning-a-view-versus-a-copy

C:\Users\Diwakar mishra\AppData\Local\Temp\ipykernel_14928\1713399763.py:2: SettingWithCopyWarning:


A value is trying to be set on a copy of a slice from a DataFrame.
Try using .loc[row_indexer,col_indexer] = value instead

See the caveats in the documentation: https://pandas.pydata.org/pandas-docs/stable/user_guide/indexing.html#returning-a-view-versus-a-copy

C:\Users\Diwakar mishra\AppData\Local\Temp\ipykernel_14928\1713399763.py:3: SettingWithCopyWarning:


A value is trying to be set on a copy of a slice from a DataFrame.
Try using .loc[row_indexer,col_indexer] = value instead

See the caveats in the documentation: https://pandas.pydata.org/pandas-docs/stable/user_guide/indexing.html#returning-a-view-versus-a-copy

C:\Users\Diwakar mishra\AppData\Local\Temp\ipykernel_14928\1713399763.py:4: SettingWithCopyWarning:


A value is trying to be set on a copy of a slice from a DataFrame.
Try using .loc[row_indexer,col_indexer] = value instead

See the caveats in the documentation: https://pandas.pydata.org/pandas-docs/stable/user_guide/indexing.html#returning-a-view-versus-a-copy

movie_file.head(16)
Name	Year	Duration	Genre	Rating	Votes	Director	Actor 1	Actor 2	Actor 3	Actor	Directors	Genres	Actors
1	#Gadhvi (He thought he was Gandhi)	2019	109	Drama	7.0	8	Gaurav Bakshi	Rasika Dugal	Vivek Ghamande	Arvind Jangid	Rasika Dugal, Vivek Ghamande, Arvind Jangid	629	229	3858
3	#Yaaram	2019	110	Comedy, Romance	4.4	35	Ovais Khan	Prateik	Ishita Raj	Siddhant Kapoor	Prateik, Ishita Raj, Siddhant Kapoor	1334	184	3326
5	...Aur Pyaar Ho Gaya	1997	147	Comedy, Drama, Musical	4.7	827	Rahul Rawail	Bobby Deol	Aishwarya Rai Bachchan	Shammi Kapoor	Bobby Deol, Aishwarya Rai Bachchan, Shammi Kapoor	1527	157	1112
6	...Yahaan	2005	142	Drama, Romance, War	7.4	1086	Shoojit Sircar	Jimmy Sheirgill	Minissha Lamba	Yashpal Sharma	Jimmy Sheirgill, Minissha Lamba, Yashpal Sharma	2037	289	2075
8	?: A Question Mark	2012	82	Horror, Mystery, Thriller	5.6	326	Allyson Patel	Yash Dave	Muntazir Ahmad	Kiran Bhatia	Yash Dave, Muntazir Ahmad, Kiran Bhatia	135	320	5535
9	@Andheri	2014	116	Action, Crime, Thriller	4.0	11	Biju Bhaskar Nair	Augustine	Fathima Babu	Byon	Augustine, Fathima Babu, Byon	401	37	967
10	1:1.6 An Ode to Lost Love	2004	96	Drama	6.2	17	Madhu Ambat	Rati Agnihotri	Gulshan Grover	Atul Kulkarni	Rati Agnihotri, Gulshan Grover, Atul Kulkarni	1083	229	3863
11	1:13:7 Ek Tera Saath	2016	120	Horror	5.9	59	Arshad Siddiqui	Pankaj Berry	Anubhav Dhir	Hritu Dudani	Pankaj Berry, Anubhav Dhir, Hritu Dudani	266	316	3213
12	100 Days	1991	161	Horror, Romance, Thriller	6.5	983	Partho Ghosh	Jackie Shroff	Madhuri Dixit	Javed Jaffrey	Jackie Shroff, Madhuri Dixit, Javed Jaffrey	1373	323	1890
13	100% Love	2012	166	Comedy, Drama, Romance	5.7	512	Rabi Kinagi	Jeet	Koyel Mallick	Sujoy Ghosh	Jeet, Koyel Mallick, Sujoy Ghosh	1503	159	1971
15	102 Not Out	2018	102	Comedy, Drama	7.4	6619	Umesh Shukla	Amitabh Bachchan	Rishi Kapoor	Vijay Raaz	Amitabh Bachchan, Rishi Kapoor, Vijay Raaz	2270	151	508
18	10ml LOVE	2010	87	Comedy, Drama, Romance	6.3	162	Sharat Katariya	Neil Bhoopalam	Anusha Bose	Manu Rishi Chadha	Neil Bhoopalam, Anusha Bose, Manu Rishi Chadha	1990	159	3113
21	12 O'Clock	1958	132	Crime, Drama, Mystery	7.2	72	Pramod Chakravorty	Guru Dutt	Waheeda Rehman	Shashikala	Guru Dutt, Waheeda Rehman, Shashikala	1425	199	1716
22	12 O'Clock	2021	105	Horror, Thriller	4.4	63	Ram Gopal Varma	Mithun Chakraborty	Makrand Deshpande	Dalip Tahil	Mithun Chakraborty, Makrand Deshpande, Dalip T...	1637	325	2768
25	127 B	2017	116	Comedy, Horror	6.6	26	Seshu Kmr	Mast Ali	Aziz Naser	Heena Shaik	Mast Ali, Aziz Naser, Heena Shaik	1948	171	2637
28	13B: Fear Has a New Address	2009	146	Drama, Horror, Mystery	7.3	6329	Vikram K. Kumar	Madhavan	Neetu Chandra	Poonam Dhillon	Madhavan, Neetu Chandra, Poonam Dhillon	2340	268	2463
ax = sb.boxplot(data=movie_file, y='Genres')
ax.set_ylabel('Genres')
ax.set_title('Box Plot of Genres')
mpl.show()
C:\Users\Diwakar mishra\AppData\Local\Programs\Python\Python310\lib\site-packages\seaborn\_oldcore.py:1498: FutureWarning:

is_categorical_dtype is deprecated and will be removed in a future version. Use isinstance(dtype, CategoricalDtype) instead


Q1 = movie_file['Genres'].quantile(0.25)
Q3 = movie_file['Genres'].quantile(0.75)
IQR = Q3 - Q1
lower_bound = Q1 - 1.5 * IQR
upper_bound = Q3 + 1.5 * IQR
movie_file = movie_file[(movie_file['Genres'] >= lower_bound) & (movie_file['Genres'] <= upper_bound)]
movie_file.head(11)
Name	Year	Duration	Genre	Rating	Votes	Director	Actor 1	Actor 2	Actor 3	Actor	Directors	Genres	Actors
1	#Gadhvi (He thought he was Gandhi)	2019	109	Drama	7.0	8	Gaurav Bakshi	Rasika Dugal	Vivek Ghamande	Arvind Jangid	Rasika Dugal, Vivek Ghamande, Arvind Jangid	629	229	3858
3	#Yaaram	2019	110	Comedy, Romance	4.4	35	Ovais Khan	Prateik	Ishita Raj	Siddhant Kapoor	Prateik, Ishita Raj, Siddhant Kapoor	1334	184	3326
5	...Aur Pyaar Ho Gaya	1997	147	Comedy, Drama, Musical	4.7	827	Rahul Rawail	Bobby Deol	Aishwarya Rai Bachchan	Shammi Kapoor	Bobby Deol, Aishwarya Rai Bachchan, Shammi Kapoor	1527	157	1112
6	...Yahaan	2005	142	Drama, Romance, War	7.4	1086	Shoojit Sircar	Jimmy Sheirgill	Minissha Lamba	Yashpal Sharma	Jimmy Sheirgill, Minissha Lamba, Yashpal Sharma	2037	289	2075
8	?: A Question Mark	2012	82	Horror, Mystery, Thriller	5.6	326	Allyson Patel	Yash Dave	Muntazir Ahmad	Kiran Bhatia	Yash Dave, Muntazir Ahmad, Kiran Bhatia	135	320	5535
9	@Andheri	2014	116	Action, Crime, Thriller	4.0	11	Biju Bhaskar Nair	Augustine	Fathima Babu	Byon	Augustine, Fathima Babu, Byon	401	37	967
10	1:1.6 An Ode to Lost Love	2004	96	Drama	6.2	17	Madhu Ambat	Rati Agnihotri	Gulshan Grover	Atul Kulkarni	Rati Agnihotri, Gulshan Grover, Atul Kulkarni	1083	229	3863
11	1:13:7 Ek Tera Saath	2016	120	Horror	5.9	59	Arshad Siddiqui	Pankaj Berry	Anubhav Dhir	Hritu Dudani	Pankaj Berry, Anubhav Dhir, Hritu Dudani	266	316	3213
12	100 Days	1991	161	Horror, Romance, Thriller	6.5	983	Partho Ghosh	Jackie Shroff	Madhuri Dixit	Javed Jaffrey	Jackie Shroff, Madhuri Dixit, Javed Jaffrey	1373	323	1890
13	100% Love	2012	166	Comedy, Drama, Romance	5.7	512	Rabi Kinagi	Jeet	Koyel Mallick	Sujoy Ghosh	Jeet, Koyel Mallick, Sujoy Ghosh	1503	159	1971
15	102 Not Out	2018	102	Comedy, Drama	7.4	6619	Umesh Shukla	Amitabh Bachchan	Rishi Kapoor	Vijay Raaz	Amitabh Bachchan, Rishi Kapoor, Vijay Raaz	2270	151	508
ax = sb.boxplot(data=movie_file, y='Directors')
ax.set_ylabel('Directors')
ax.set_title('Box Plot of Directors')
mpl.show()
C:\Users\Diwakar mishra\AppData\Local\Programs\Python\Python310\lib\site-packages\seaborn\_oldcore.py:1498: FutureWarning:

is_categorical_dtype is deprecated and will be removed in a future version. Use isinstance(dtype, CategoricalDtype) instead


Q1 = movie_file['Directors'].quantile(0.25)
Q3 = movie_file['Directors'].quantile(0.75)
IQR = Q3 - Q1
lower_bound = Q1 - 1.5 * IQR
upper_bound = Q3 + 1.5 * IQR
movie_file = movie_file[(movie_file['Directors'] >= lower_bound) & (movie_file['Directors'] <= upper_bound)]
movie_file.head(11)
Name	Year	Duration	Genre	Rating	Votes	Director	Actor 1	Actor 2	Actor 3	Actor	Directors	Genres	Actors
1	#Gadhvi (He thought he was Gandhi)	2019	109	Drama	7.0	8	Gaurav Bakshi	Rasika Dugal	Vivek Ghamande	Arvind Jangid	Rasika Dugal, Vivek Ghamande, Arvind Jangid	629	229	3858
3	#Yaaram	2019	110	Comedy, Romance	4.4	35	Ovais Khan	Prateik	Ishita Raj	Siddhant Kapoor	Prateik, Ishita Raj, Siddhant Kapoor	1334	184	3326
5	...Aur Pyaar Ho Gaya	1997	147	Comedy, Drama, Musical	4.7	827	Rahul Rawail	Bobby Deol	Aishwarya Rai Bachchan	Shammi Kapoor	Bobby Deol, Aishwarya Rai Bachchan, Shammi Kapoor	1527	157	1112
6	...Yahaan	2005	142	Drama, Romance, War	7.4	1086	Shoojit Sircar	Jimmy Sheirgill	Minissha Lamba	Yashpal Sharma	Jimmy Sheirgill, Minissha Lamba, Yashpal Sharma	2037	289	2075
8	?: A Question Mark	2012	82	Horror, Mystery, Thriller	5.6	326	Allyson Patel	Yash Dave	Muntazir Ahmad	Kiran Bhatia	Yash Dave, Muntazir Ahmad, Kiran Bhatia	135	320	5535
9	@Andheri	2014	116	Action, Crime, Thriller	4.0	11	Biju Bhaskar Nair	Augustine	Fathima Babu	Byon	Augustine, Fathima Babu, Byon	401	37	967
10	1:1.6 An Ode to Lost Love	2004	96	Drama	6.2	17	Madhu Ambat	Rati Agnihotri	Gulshan Grover	Atul Kulkarni	Rati Agnihotri, Gulshan Grover, Atul Kulkarni	1083	229	3863
11	1:13:7 Ek Tera Saath	2016	120	Horror	5.9	59	Arshad Siddiqui	Pankaj Berry	Anubhav Dhir	Hritu Dudani	Pankaj Berry, Anubhav Dhir, Hritu Dudani	266	316	3213
12	100 Days	1991	161	Horror, Romance, Thriller	6.5	983	Partho Ghosh	Jackie Shroff	Madhuri Dixit	Javed Jaffrey	Jackie Shroff, Madhuri Dixit, Javed Jaffrey	1373	323	1890
13	100% Love	2012	166	Comedy, Drama, Romance	5.7	512	Rabi Kinagi	Jeet	Koyel Mallick	Sujoy Ghosh	Jeet, Koyel Mallick, Sujoy Ghosh	1503	159	1971
15	102 Not Out	2018	102	Comedy, Drama	7.4	6619	Umesh Shukla	Amitabh Bachchan	Rishi Kapoor	Vijay Raaz	Amitabh Bachchan, Rishi Kapoor, Vijay Raaz	2270	151	508
ax = sb.boxplot(data=movie_file, y='Actors')
ax.set_ylabel('Actors')
ax.set_title('Box Plot of Actors')
mpl.show()
C:\Users\Diwakar mishra\AppData\Local\Programs\Python\Python310\lib\site-packages\seaborn\_oldcore.py:1498: FutureWarning:

is_categorical_dtype is deprecated and will be removed in a future version. Use isinstance(dtype, CategoricalDtype) instead


Q1 = movie_file['Actors'].quantile(0.25)
Q3 = movie_file['Actors'].quantile(0.75)
IQR = Q3 - Q1
lower_bound = Q1 - 1.5 * IQR
upper_bound = Q3 + 1.5 * IQR
movie_file = movie_file[(movie_file['Actors'] >= lower_bound) & (movie_file['Actors'] <= upper_bound)]
movie_file.head(11)
Name	Year	Duration	Genre	Rating	Votes	Director	Actor 1	Actor 2	Actor 3	Actor	Directors	Genres	Actors
1	#Gadhvi (He thought he was Gandhi)	2019	109	Drama	7.0	8	Gaurav Bakshi	Rasika Dugal	Vivek Ghamande	Arvind Jangid	Rasika Dugal, Vivek Ghamande, Arvind Jangid	629	229	3858
3	#Yaaram	2019	110	Comedy, Romance	4.4	35	Ovais Khan	Prateik	Ishita Raj	Siddhant Kapoor	Prateik, Ishita Raj, Siddhant Kapoor	1334	184	3326
5	...Aur Pyaar Ho Gaya	1997	147	Comedy, Drama, Musical	4.7	827	Rahul Rawail	Bobby Deol	Aishwarya Rai Bachchan	Shammi Kapoor	Bobby Deol, Aishwarya Rai Bachchan, Shammi Kapoor	1527	157	1112
6	...Yahaan	2005	142	Drama, Romance, War	7.4	1086	Shoojit Sircar	Jimmy Sheirgill	Minissha Lamba	Yashpal Sharma	Jimmy Sheirgill, Minissha Lamba, Yashpal Sharma	2037	289	2075
8	?: A Question Mark	2012	82	Horror, Mystery, Thriller	5.6	326	Allyson Patel	Yash Dave	Muntazir Ahmad	Kiran Bhatia	Yash Dave, Muntazir Ahmad, Kiran Bhatia	135	320	5535
9	@Andheri	2014	116	Action, Crime, Thriller	4.0	11	Biju Bhaskar Nair	Augustine	Fathima Babu	Byon	Augustine, Fathima Babu, Byon	401	37	967
10	1:1.6 An Ode to Lost Love	2004	96	Drama	6.2	17	Madhu Ambat	Rati Agnihotri	Gulshan Grover	Atul Kulkarni	Rati Agnihotri, Gulshan Grover, Atul Kulkarni	1083	229	3863
11	1:13:7 Ek Tera Saath	2016	120	Horror	5.9	59	Arshad Siddiqui	Pankaj Berry	Anubhav Dhir	Hritu Dudani	Pankaj Berry, Anubhav Dhir, Hritu Dudani	266	316	3213
12	100 Days	1991	161	Horror, Romance, Thriller	6.5	983	Partho Ghosh	Jackie Shroff	Madhuri Dixit	Javed Jaffrey	Jackie Shroff, Madhuri Dixit, Javed Jaffrey	1373	323	1890
13	100% Love	2012	166	Comedy, Drama, Romance	5.7	512	Rabi Kinagi	Jeet	Koyel Mallick	Sujoy Ghosh	Jeet, Koyel Mallick, Sujoy Ghosh	1503	159	1971
15	102 Not Out	2018	102	Comedy, Drama	7.4	6619	Umesh Shukla	Amitabh Bachchan	Rishi Kapoor	Vijay Raaz	Amitabh Bachchan, Rishi Kapoor, Vijay Raaz	2270	151	508
Input = movie_file.drop(['Name', 'Genre', 'Rating', 'Director', 'Actor 1', 'Actor 2', 'Actor 3', 'Actor'], axis=1)
Output = movie_file['Rating']
Input.head(16)
Year	Duration	Votes	Directors	Genres	Actors
1	2019	109	8	629	229	3858
3	2019	110	35	1334	184	3326
5	1997	147	827	1527	157	1112
6	2005	142	1086	2037	289	2075
8	2012	82	326	135	320	5535
9	2014	116	11	401	37	967
10	2004	96	17	1083	229	3863
11	2016	120	59	266	316	3213
12	1991	161	983	1373	323	1890
13	2012	166	512	1503	159	1971
15	2018	102	6619	2270	151	508
18	2010	87	162	1990	159	3113
21	1958	132	72	1425	199	1716
22	2021	105	63	1637	325	2768
25	2017	116	26	1948	171	2637
28	2009	146	6329	2340	268	2463
Output.head(16)
1     7.0
3     4.4
5     4.7
6     7.4
8     5.6
9     4.0
10    6.2
11    5.9
12    6.5
13    5.7
15    7.4
18    6.3
21    7.2
22    4.4
25    6.6
28    7.3
Name: Rating, dtype: float64
x_train, x_test, y_train, y_test = train_test_split(Input, Output, test_size = 0.2, random_state = 1)
from sklearn.linear_model import LinearRegression
from sklearn.metrics import mean_squared_error, r2_score as score
from sklearn.ensemble import RandomForestRegressor, GradientBoostingRegressor
from sklearn.tree import DecisionTreeRegressor
from xgboost import XGBRegressor
from lightgbm import LGBMRegressor
from catboost import CatBoostRegressor
from sklearn.neighbors import KNeighborsRegressor
from sklearn.svm import SVR
def evaluate_model(y_true, y_pred, model_name):
    print("Model: ", model_name)
    print("Accuracy = {:0.2f}%".format(score(y_true, y_pred)*1000))
    print("Mean Squared Error = {:0.2f}\n".format(mean_squared_error(y_true, y_pred, squared=False)))
    return round(score(y_true, y_pred)*1000, 2)
LR = LinearRegression()
LR.fit(x_train, y_train)
lr_preds = LR.predict(x_test)

RFR = RandomForestRegressor(n_estimators=100, random_state=1)
RFR.fit(x_train, y_train)
rf_preds = RFR.predict(x_test)

DTR = DecisionTreeRegressor(random_state=1)
DTR.fit(x_train, y_train)
dt_preds = DTR.predict(x_test)

XGBR = XGBRegressor(n_estimators=100, random_state=1)
XGBR.fit(x_train, y_train)
xgb_preds = XGBR.predict(x_test)

GBR = GradientBoostingRegressor(n_estimators=100, random_state=60)
GBR.fit(x_train, y_train)
gb_preds = GBR.predict(x_test)

LGBMR = LGBMRegressor(n_estimators=100, random_state=60)
LGBMR.fit(x_train, y_train)
lgbm_preds = LGBMR.predict(x_test)

CBR = CatBoostRegressor(n_estimators=100, random_state=1, verbose=False)
CBR.fit(x_train, y_train)
catboost_preds = CBR.predict(x_test)

KNR = KNeighborsRegressor(n_neighbors=5)
KNR.fit(x_train, y_train)
knn_preds = KNR.predict(x_test)
C:\Users\Diwakar mishra\AppData\Local\Programs\Python\Python310\lib\site-packages\xgboost\data.py:312: FutureWarning:

is_sparse is deprecated and will be removed in a future version. Check `isinstance(dtype, pd.SparseDtype)` instead.

C:\Users\Diwakar mishra\AppData\Local\Programs\Python\Python310\lib\site-packages\xgboost\data.py:314: FutureWarning:

is_categorical_dtype is deprecated and will be removed in a future version. Use isinstance(dtype, CategoricalDtype) instead

C:\Users\Diwakar mishra\AppData\Local\Programs\Python\Python310\lib\site-packages\xgboost\data.py:345: FutureWarning:

is_categorical_dtype is deprecated and will be removed in a future version. Use isinstance(dtype, CategoricalDtype) instead

C:\Users\Diwakar mishra\AppData\Local\Programs\Python\Python310\lib\site-packages\xgboost\data.py:336: FutureWarning:

is_categorical_dtype is deprecated and will be removed in a future version. Use isinstance(dtype, CategoricalDtype) instead

C:\Users\Diwakar mishra\AppData\Local\Programs\Python\Python310\lib\site-packages\xgboost\data.py:440: FutureWarning:

is_sparse is deprecated and will be removed in a future version. Check `isinstance(dtype, pd.SparseDtype)` instead.

C:\Users\Diwakar mishra\AppData\Local\Programs\Python\Python310\lib\site-packages\xgboost\data.py:312: FutureWarning:

is_sparse is deprecated and will be removed in a future version. Check `isinstance(dtype, pd.SparseDtype)` instead.

C:\Users\Diwakar mishra\AppData\Local\Programs\Python\Python310\lib\site-packages\xgboost\data.py:314: FutureWarning:

is_categorical_dtype is deprecated and will be removed in a future version. Use isinstance(dtype, CategoricalDtype) instead

C:\Users\Diwakar mishra\AppData\Local\Programs\Python\Python310\lib\site-packages\xgboost\data.py:345: FutureWarning:

is_categorical_dtype is deprecated and will be removed in a future version. Use isinstance(dtype, CategoricalDtype) instead

C:\Users\Diwakar mishra\AppData\Local\Programs\Python\Python310\lib\site-packages\xgboost\data.py:336: FutureWarning:

is_categorical_dtype is deprecated and will be removed in a future version. Use isinstance(dtype, CategoricalDtype) instead

[LightGBM] [Warning] Auto-choosing col-wise multi-threading, the overhead of testing was 0.001120 seconds.
You can set `force_col_wise=true` to remove the overhead.
[LightGBM] [Info] Total Bins 1209
[LightGBM] [Info] Number of data points in the train set: 4505, number of used features: 6
[LightGBM] [Info] Start training from score 5.919156
LRScore = evaluate_model(y_test, lr_preds, "LINEAR REGRESSION")
RFScore = evaluate_model(y_test, rf_preds, "RANDOM FOREST")
DTScore = evaluate_model(y_test, dt_preds, "DECEISION TREE")
XGBScore = evaluate_model(y_test, xgb_preds, "EXTENDED GRADIENT BOOSTING")
GBScore = evaluate_model(y_test, gb_preds, "GRADIENT BOOSTING")
LGBScore = evaluate_model(y_test, lgbm_preds, "LIGHT GRADIENT BOOSTING")
CBRScore = evaluate_model(y_test, catboost_preds, "CAT BOOST")
KNNScore = evaluate_model(y_test, knn_preds, "K NEAREST NEIGHBORS")
Model:  LINEAR REGRESSION
Accuracy = -64.53%
Mean Squared Error = 1.39

Model:  RANDOM FOREST
Accuracy = 354.06%
Mean Squared Error = 1.09

Model:  DECEISION TREE
Accuracy = -277.69%
Mean Squared Error = 1.53

Model:  EXTENDED GRADIENT BOOSTING
Accuracy = 348.12%
Mean Squared Error = 1.09

Model:  GRADIENT BOOSTING
Accuracy = 380.38%
Mean Squared Error = 1.06

Model:  LIGHT GRADIENT BOOSTING
Accuracy = 381.56%
Mean Squared Error = 1.06

Model:  CAT BOOST
Accuracy = 358.62%
Mean Squared Error = 1.08

Model:  K NEAREST NEIGHBORS
Accuracy = 30.25%
Mean Squared Error = 1.33

models = pd.DataFrame(
    {
        "MODELS": ["Linear Regression", "Random Forest", "Decision Tree", "Gradient Boosting", "Extended Gradient Boosting", "Light Gradient Boosting", "Cat Boosting", "K Nearest Neighbors"],
        "SCORES": [LRScore, RFScore, DTScore, GBScore, XGBScore, LGBScore, CBRScore, KNNScore]
    }
)
models.sort_values(by='SCORES', ascending=False)
MODELS	SCORES
5	Light Gradient Boosting	381.56
3	Gradient Boosting	380.38
6	Cat Boosting	358.62
1	Random Forest	354.06
4	Extended Gradient Boosting	348.12
7	K Nearest Neighbors	30.25
0	Linear Regression	-64.53
2	Decision Tree	-277.69
